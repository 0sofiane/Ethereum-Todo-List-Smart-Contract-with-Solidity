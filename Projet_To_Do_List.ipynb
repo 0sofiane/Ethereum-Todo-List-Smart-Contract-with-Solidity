{
 "cells": [
  {
   "cell_type": "markdown",
   "metadata": {},
   "source": [
    "# Projet To do Application using Solidity\n",
    "## KARTOBI Sofiane "
   ]
  },
  {
   "cell_type": "markdown",
   "metadata": {},
   "source": [
    "### Description de l'approche :\n",
    "Principalement ce projet a été le fruit de visionnage de 3 principales vidéos sur youtube pour concevoir le corp ainsi que des fonctions générique comme l'ajout, l'update et le check de tache. J'ai aussi pensé à utiliser de l'IA générative (Bard de Google) pour voir ce que je peux ajouter comme fonctionnalité supplémentaire pour ne pas garder une version très standard de la To do App comme l'ajout des deadline et de tri des taches qui ont dépassé ou pas encore la deadline en utilsant le timestamp.\n",
    "\n",
    "Voici les liens des vidéos youtubes consultées : \n",
    "- Todo List | Solidity 0.8 : https://youtu.be/CnHFNadyla0?si=MZG1sF6dh25qkqYA  (Vidéo 1)\n",
    "- Build your first Blockchain app - Ethereum Todo List Smart Contract with Solidity : https://youtu.be/20ktZBancco?si=ZOWo-wtH1_2hFB5M (Vidéo 2)\n",
    "- Build Your First Blockchain App Using Ethereum Smart Contracts and Solidity : https://youtu.be/coQ5dg8wM2o?si=fyeZs6H-s3LuFeJ9 (Vidéo 3)"
   ]
  },
  {
   "cell_type": "markdown",
   "metadata": {},
   "source": [
    "### Corp de l'application \n",
    "#### 1- Structure de données :\n",
    "- Comme toute to do list qui se respecte, on commence par défénir les principaux composants (attributs) d'une instance de la liste (item). En général, on peut se contenter du nom de la tache (type string) et l'état (cochée ou non cochée, type bool) qui montre si la tache a été exécutée. L'ensemble des vidéos proposées ont suivis cette démarche, donc au début je me suis seulement contenté de cela.\n",
    "\n",
    "- Par la suite, j'ai eu du mal à imaginer quelle fonctionnalité ajouté donc je me suis inspiré avec Bard pour voir quel attribut serait intéressant d'ajouter, j'ai ainsi rajouté la deadline (ype uint) et Priorité qui était de type enum (cette dernière a été laissé de coté pour des raisons expliquées plus bas) \n",
    "\n",
    "![Image](structure.png)\n",
    "\n",
    "- On définit l'ensemble des taches dans une variable Liste qui est un mapping de la structure créée précédemment (TaskToDo)\n",
    "- On crée un compteur qui nous permettra de controler la création et la supprission de taches qui sera initié à 0\n",
    "- On crée également la variable owner qui est de type adress qui nous permettra par la suite de tracker le créateur du smart contract\n",
    "\n",
    "![Image](variables.png)\n",
    "\n",
    "- Le constructeur contient simplement la variable owner qui va tracker le déployeur du smart contract\n",
    "\n",
    "![Image](constructeur.png)\n",
    "\n",
    "- Le modifier permet de crée une sorte d'étendu (mot clé) qu'on pourra utiliser par la suite pour restreindre l'action seulement au détenteur du contract (owner)\n",
    "\n",
    "![Image](modifierOwner.png)\n",
    "\n",
    "#### 2- Events :\n",
    "- On crée des évenements qui seront déclenchés lors de l'actionnement de certaines fonctions (la Vidéo 2 avait rajouté cet aspect)\n",
    "- on peut checker l'actionnement de ces évenements dans les détails de la transactions qui éxecutera les fonctions concernées\n",
    "\n",
    "![Image](Events.png)\n",
    "![Image](eventLogs.png)\n",
    "\n",
    "#### 3- Définition des Fonctions :\n",
    "\n",
    "- La vidéo 1 explique l'importance et la différence, selon chaque situation(1 paramétres ou plusieurs paramétres dans la strcutures), entre le fait de déclarer d'abord une variable à qui on affectera les valeurs passées en arguments, puis d'accéder et manipuler cet élément , et le fait de le faire directement en une seul ligne. \n",
    "- La vidéo 1 avait utilisé un type array de la structure TaskToDo plutot qu'un mapping, cela faciliter l'ajout de taches avec la méthode push() et enlever la nécéssité de créer un compteur \n",
    "- Cependant comme vu dans la dernière séance , j'ai décidé d'opter pour un mapping afin de mieux me familiariser avec le type\n",
    "\n",
    "##### 3.1 addTask() : \n",
    "\n",
    "![Image](addTask.png)\n",
    "\n",
    "##### 3.2 updateTask() : \n",
    "\n",
    "![Image](updateTask.png)\n",
    "\n",
    "##### 3.3 getTask() : \n",
    "\n",
    "![Image](getTask.png)\n",
    "\n",
    "##### 3.4 removeTask() : \n",
    "- On utilise le mot clé delete pour supprimé un élément de la liste\n",
    "- On décrémonte le compteur \n",
    "- on utilise une boucle et on fait basculer d'une position le reste des élements, et on supprime également le dernier élément vu q'il sera en doublon \n",
    "![Image](removeTask.png)\n",
    "\n",
    "##### 3.5 CheckOrUncheckTask() : \n",
    "- permet de cocher ou décocher une tache, une simple négataion de l'état actuel de la tache\n",
    " \n",
    "![Image](ToggleTask.png)\n",
    "\n",
    "##### 3.6 getUpcomingTodos() : \n",
    "- on effectue la même logique de compteur mais de maniére locale à la fonction pour ajouter dans un array de TaskToDo les taches qui vont bientot arriver en comparant à l'heure actuelle block.TimeStamp\n",
    "\n",
    "![Image](UpcomingTasks.png)\n",
    "\n",
    "##### 3.7 getOverdueTodos() : \n",
    "- même chose, seule la condition de la deadline change \n",
    "\n",
    "![Image](OverdueTasks.png)"
   ]
  },
  {
   "cell_type": "markdown",
   "metadata": {},
   "source": [
    "#### Deploiment :\n",
    "- Pour la création de tache, le paramétre deadline doit être remplie en utilisant le format Unix Time Stamp afin que ce dernier soit comparable au TimeStamp du block ce qui permettra ensuite de pouvoir determine la liste des dueTask et Upcoming.\n",
    "- Pour cela j'ai utilisé le site :https://www.unixtimestamp.com/ qui m'a permit de convertir des exemples de dates dans le format dont on a besoin "
   ]
  },
  {
   "cell_type": "markdown",
   "metadata": {},
   "source": [
    "### Problémes rencontrés : \n",
    "- Un des problémes rencontrés était l'utilisation du type enum afin d'ajouter une donnée priorité à une tache, lors de la création et l'ajout d'une nouvelle tache une erreur se produit (comme le montre la capture d'écran ci-dessous)\n",
    "- après analyse du message d'erreur et en demandant à Bard, il s'avére qu'il s'agit d'une erreur de convertion qui doit se faire de maniére explicite en allant de type enum value à uint8 \n",
    "- j'ai essayé de faire cette convertion durant l'ajout de Priority.High dans la fonction addTask() en utilisant uint8() , mais cela donnait la même erreur et donc je n'ai pas su comment intégrer cette convertion explicitement dans le code\n",
    "- Ainsi j'ai décidé de l'enlever, d'autant plus qu'aucune fonction ne l'utiliser par la suite mise à part addTask et updateTask"
   ]
  },
  {
   "cell_type": "markdown",
   "metadata": {},
   "source": [
    "![Image](problem1.png)"
   ]
  },
  {
   "cell_type": "markdown",
   "metadata": {},
   "source": []
  }
 ],
 "metadata": {
  "kernelspec": {
   "display_name": "base",
   "language": "python",
   "name": "python3"
  },
  "language_info": {
   "codemirror_mode": {
    "name": "ipython",
    "version": 3
   },
   "file_extension": ".py",
   "mimetype": "text/x-python",
   "name": "python",
   "nbconvert_exporter": "python",
   "pygments_lexer": "ipython3",
   "version": "3.9.7"
  }
 },
 "nbformat": 4,
 "nbformat_minor": 2
}
